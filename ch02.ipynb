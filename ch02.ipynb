{
 "cells": [
  {
   "cell_type": "markdown",
   "metadata": {
    "slideshow": {
     "slide_type": "slide"
    }
   },
   "source": [
    "# Python Language Basics, IPython, and Jupyter Notebooks"
   ]
  },
  {
   "cell_type": "markdown",
   "metadata": {
    "lang": "en",
    "slideshow": {
     "slide_type": "slide"
    }
   },
   "source": [
    "## The Python Interpreter[](#python_interpreter)\n",
    "\n",
    "- Python is an _interpreted_ language. \n",
    "- The Python interpreter runs a program by executing one statement at a time. \n",
    "\n",
    "The standard interactive Python interpreter can be invoked on the command line with the `python` command:\n",
    "\n",
    "    $ python\n",
    "    Python 3.10.4 | packaged by conda-forge | (main, Mar 24 2022, 17:38:57)\n",
    "    [GCC 10.3.0] on linux\n",
    "    Type \"help\", \"copyright\", \"credits\" or \"license\" for more information.\n",
    "    >>> a = 5\n",
    "    >>> print(a)\n",
    "    5"
   ]
  },
  {
   "cell_type": "markdown",
   "metadata": {
    "slideshow": {
     "slide_type": "subslide"
    }
   },
   "source": [
    "- The `>>>` you see is the _prompt_ after which you’ll type code expressions. \n",
    "- To exit the Python interpreter, you can either type `exit()` or press Ctrl-D (works on Linux and macOS only)."
   ]
  },
  {
   "cell_type": "markdown",
   "metadata": {
    "slideshow": {
     "slide_type": "subslide"
    }
   },
   "source": [
    "- Running Python programs is as simple as calling `python` with a _.py_ file as its first argument. \n",
    "\n",
    "Suppose we had created _hello\\_world.py_ with these contents:\n",
    "\n",
    "    print(\"Hello world\")\n",
    "\n",
    "You can run it by executing the following command (the _hello\\_world.py_ file must be in your current working terminal directory):\n",
    "\n",
    "    $ python hello_world.py\n",
    "    Hello world"
   ]
  },
  {
   "cell_type": "markdown",
   "metadata": {
    "slideshow": {
     "slide_type": "subslide"
    }
   },
   "source": [
    "- While some Python programmers execute all of their Python code in this way, those doing data analysis or scientific computing make use of IPython, an enhanced Python interpreter, or Jupyter notebooks, web-based code notebooks originally created within the IPython project. \n",
    "\n",
    "When you use the `%run` command, IPython executes the code in the specified file in the same process, enabling you to explore the results interactively when it’s done:\n",
    "\n",
    "    $ ipython\n",
    "    Python 3.10.4 | packaged by conda-forge | (main, Mar 24 2022, 17:38:57)\n",
    "    Type 'copyright', 'credits' or 'license' for more information\n",
    "    IPython 7.31.1 -- An enhanced Interactive Python. Type '?' for help.\n",
    "    \n",
    "    In [1]: %run hello_world.py\n",
    "    Hello world\n",
    "    \n",
    "    In [2]:\n",
    "    \n",
    "The default IPython prompt adopts the numbered `In [2]:` style, compared with the standard `>>>` prompt."
   ]
  },
  {
   "cell_type": "markdown",
   "metadata": {
    "slideshow": {
     "slide_type": "slide"
    }
   },
   "source": [
    "## IPython Basics[](#ipython_basics)"
   ]
  },
  {
   "cell_type": "markdown",
   "metadata": {
    "slideshow": {
     "slide_type": "slide"
    }
   },
   "source": [
    "### Running the IPython Shell[](#ipython_basics_shell)\n",
    "\n",
    "You can launch the IPython shell on the command line just like launching the regular Python interpreter except with the `ipython` command:\n",
    "\n",
    "    $ ipython\n",
    "    Python 3.10.4 | packaged by conda-forge | (main, Mar 24 2022, 17:38:57)\n",
    "    Type 'copyright', 'credits' or 'license' for more information\n",
    "    IPython 7.31.1 -- An enhanced Interactive Python. Type '?' for help.\n",
    "    \n",
    "    In [1]: a = 5\n",
    "    \n",
    "    In [2]: a\n",
    "    Out[2]: 5"
   ]
  },
  {
   "cell_type": "markdown",
   "metadata": {
    "slideshow": {
     "slide_type": "slide"
    }
   },
   "source": [
    "You can execute arbitrary Python statements by typing them and pressing Return (or Enter). When you type just a variable into IPython, it renders a string representation of the object:\n",
    "\n",
    "    In [5]: import numpy as np\n",
    "    \n",
    "    In [6]: data = [np.random.standard_normal() for i in range(7)]\n",
    "    \n",
    "    In [7]: data\n",
    "    Out[7]: \n",
    "    [-0.20470765948471295,\n",
    "     0.47894333805754824,\n",
    "     -0.5194387150567381,\n",
    "     -0.55573030434749,\n",
    "     1.9657805725027142,\n",
    "     1.3934058329729904,\n",
    "     0.09290787674371767]\n",
    "\n",
    "The first two lines are Python code **statements**; the second statement creates a variable named `data` that refers to a newly created Python dictionary. The last line prints the value of `data` in the console."
   ]
  },
  {
   "cell_type": "markdown",
   "metadata": {
    "slideshow": {
     "slide_type": "slide"
    }
   },
   "source": [
    "Many kinds of Python objects are formatted to be more readable, or _pretty-printed_, which is distinct from normal printing with `print`. If you printed the above `data` variable in the standard Python interpreter, it would be much less readable:\n",
    "\n",
    "    >>> import numpy as np\n",
    "    >>> data = [np.random.standard_normal() for i in range(7)]\n",
    "    >>> print(data)\n",
    "    >>> data\n",
    "    [-0.5767699931966723, -0.1010317773535111, -1.7841005313329152,\n",
    "    -1.524392126408841, 0.22191374220117385, -1.9835710588082562,\n",
    "    -1.6081963964963528]"
   ]
  },
  {
   "cell_type": "markdown",
   "metadata": {
    "slideshow": {
     "slide_type": "slide"
    }
   },
   "source": [
    "### Running the Jupyter Notebook[](#ipython_basics_notebook)\n",
    "\n",
    "- One of the major components of the Jupyter project is the _notebook_, a type of interactive document for code, text (including Markdown), data visualizations, and other output. \n",
    "- The Jupyter notebook interacts with _kernels_, which are implementations of the Jupyter interactive computing protocol specific to different programming languages. \n",
    "- The Python Jupyter kernel uses the IPython system for its underlying behavior."
   ]
  },
  {
   "cell_type": "markdown",
   "metadata": {
    "slideshow": {
     "slide_type": "slide"
    }
   },
   "source": [
    "To start up Jupyter, run the command `jupyter` `notebook` in a terminal:\n",
    "\n",
    "    $ jupyter notebook\n",
    "    [I 15:20:52.739 NotebookApp] Serving notebooks from local directory:\n",
    "    /home/wesm/code/pydata-book\n",
    "    [I 15:20:52.739 NotebookApp] 0 active kernels\n",
    "    [I 15:20:52.739 NotebookApp] The Jupyter Notebook is running at:\n",
    "    http://localhost:8888/?token=0a77b52fefe52ab83e3c35dff8de121e4bb443a63f2d...\n",
    "    [I 15:20:52.740 NotebookApp] Use Control-C to stop this server and shut down\n",
    "    all kernels (twice to skip confirmation).\n",
    "    Created new window in existing browser session.\n",
    "        To access the notebook, open this file in a browser:\n",
    "            file:///home/wesm/.local/share/jupyter/runtime/nbserver-185259-open.html\n",
    "        Or copy and paste one of these URLs:\n",
    "            http://localhost:8888/?token=0a77b52fefe52ab83e3c35dff8de121e4...\n",
    "         or http://127.0.0.1:8888/?token=0a77b52fefe52ab83e3c35dff8de121e4..."
   ]
  },
  {
   "cell_type": "markdown",
   "metadata": {
    "slideshow": {
     "slide_type": "subslide"
    }
   },
   "source": [
    "On many platforms, Jupyter will automatically open in your default web browser (unless you start it with `--no-browser`). Otherwise, you can navigate to the HTTP address printed when you started the notebook"
   ]
  },
  {
   "cell_type": "markdown",
   "metadata": {
    "slideshow": {
     "slide_type": "fragment"
    }
   },
   "source": [
    "Note\n",
    "\n",
    "Many people use Jupyter as a local computing environment, but it can also be deployed on servers and accessed remotely."
   ]
  },
  {
   "attachments": {
    "576ac0a2-fe76-480c-952a-5fd2f9830981.png": {
     "image/png": "[encoded data removed]"
    }
   },
   "cell_type": "markdown",
   "metadata": {
    "slideshow": {
     "slide_type": "slide"
    }
   },
   "source": [
    "![pda3_0201.png](attachment:576ac0a2-fe76-480c-952a-5fd2f9830981.png)"
   ]
  },
  {
   "attachments": {
    "e97b12cc-db88-471f-af57-bd23363eec49.png": {
     "image/png": "[encoded data removed]"
    }
   },
   "cell_type": "markdown",
   "metadata": {
    "slideshow": {
     "slide_type": "slide"
    }
   },
   "source": [
    "- To create a new notebook, click the New button and select the \"Python 3\" option. \n",
    "- try clicking on the empty code \"cell\" and entering a line of Python code. Then press Shift-Enter to execute it.\n",
    "\n",
    "![pda3_0202.png](attachment:e97b12cc-db88-471f-af57-bd23363eec49.png)"
   ]
  },
  {
   "cell_type": "markdown",
   "metadata": {
    "slideshow": {
     "slide_type": "slide"
    }
   },
   "source": [
    "- When you save the notebook (see \"Save and Checkpoint\" under the notebook File menu), it creates a file with the extension _.ipynb_. \n",
    "- This is a self-contained file format that contains all of the content (including any evaluated code output) currently in the notebook. \n",
    "- These can be loaded and edited by other Jupyter users."
   ]
  },
  {
   "cell_type": "markdown",
   "metadata": {
    "slideshow": {
     "slide_type": "fragment"
    }
   },
   "source": [
    "- To rename an open notebook, click on the notebook title at the top of the page and type the new title, pressing Enter when you are finished.\n",
    "- To load an existing notebook, put the file in the same directory where you started the notebook process (or in a subfolder within it), then click the name from the landing page. \n",
    "- When you want to close a notebook, click the File menu and select \"Close and Halt.\" \n",
    "    - If you simply close the browser tab, the Python process associated with the notebook will keep running in the background."
   ]
  },
  {
   "attachments": {
    "b8cdf7ca-3cf8-44ac-aa18-c0157d250ce1.png": {
     "image/png": "[encoded data removed]"
    }
   },
   "cell_type": "markdown",
   "metadata": {
    "slideshow": {
     "slide_type": "slide"
    }
   },
   "source": [
    "\n",
    "![pda3_0203.png](attachment:b8cdf7ca-3cf8-44ac-aa18-c0157d250ce1.png)\n",
    "Figure 2.3: Jupyter example view for an existing notebook\n",
    "\n",
    "[](#fig-figure_jupyter_existing_nb)"
   ]
  },
  {
   "cell_type": "markdown",
   "metadata": {
    "slideshow": {
     "slide_type": "slide"
    }
   },
   "source": [
    "### Tab Completion[](#ipython_completion)\n",
    "\n",
    "While entering expressions in the shell, pressing the Tab key will search the namespace for any variables (objects, functions, etc.) matching the characters you have typed so far and show the results in a convenient drop-down menu:\n",
    "\n",
    "    In [1]: an_apple = 27\n",
    "    \n",
    "    In [2]: an_example = 42\n",
    "    \n",
    "    In [3]: an<Tab>\n",
    "    an_apple   an_example  any"
   ]
  },
  {
   "cell_type": "markdown",
   "metadata": {
    "slideshow": {
     "slide_type": "slide"
    }
   },
   "source": [
    "Also, you can also complete methods and attributes on any object after typing a period:\n",
    "\n",
    "    In [3]: b = [1, 2, 3]\n",
    "    \n",
    "    In [4]: b.<Tab>\n",
    "    append()  count()   insert()  reverse()\n",
    "    clear()   extend()  pop()     sort()\n",
    "    copy()    index()   remove()"
   ]
  },
  {
   "cell_type": "markdown",
   "metadata": {
    "slideshow": {
     "slide_type": "slide"
    }
   },
   "source": [
    "The same is true for modules:\n",
    "\n",
    "    In [1]: import datetime\n",
    "    \n",
    "    In [2]: datetime.<Tab>\n",
    "    date          MAXYEAR       timedelta\n",
    "    datetime      MINYEAR       timezone\n",
    "    datetime_CAPI time          tzinfo"
   ]
  },
  {
   "cell_type": "markdown",
   "metadata": {
    "slideshow": {
     "slide_type": "slide"
    }
   },
   "source": [
    "Note\n",
    "\n",
    "Note that IPython by default hides methods and attributes starting with underscores, such as magic methods and internal “private” methods and attributes, in order to avoid cluttering the display (and confusing novice users!). These, too, can be tab-completed, but you must first type an underscore to see them. "
   ]
  },
  {
   "cell_type": "markdown",
   "metadata": {
    "slideshow": {
     "slide_type": "fragment"
    }
   },
   "source": [
    "When typing anything that looks like a file path (even in a Python string), pressing the Tab key will complete anything on your computer’s filesystem matching what you’ve typed."
   ]
  },
  {
   "attachments": {
    "91acb799-91b3-43d0-8d45-ce331277718f.png": {
     "image/png": "[encoded data removed]"
    }
   },
   "cell_type": "markdown",
   "metadata": {
    "slideshow": {
     "slide_type": "slide"
    }
   },
   "source": [
    "Another area where tab completion saves time is in the completion of function keyword arguments (including the `=` sign!). \n",
    "\n",
    "![pda3_0204.png](attachment:91acb799-91b3-43d0-8d45-ce331277718f.png)\n"
   ]
  },
  {
   "cell_type": "markdown",
   "metadata": {
    "slideshow": {
     "slide_type": "slide"
    }
   },
   "source": [
    "### Introspection[](#ipython_introspection)\n",
    "\n",
    "Using a question mark (`?`) before or after a variable will display some general information about the object:\n",
    "\n",
    "    In [1]: b = [1, 2, 3]\n",
    "    \n",
    "    In [2]: b?\n",
    "    Type:        list\n",
    "    String form: [1, 2, 3]\n",
    "    Length:      3\n",
    "    Docstring:\n",
    "    Built-in mutable sequence.\n",
    "    \n",
    "    If no argument is given, the constructor creates a new empty list.\n",
    "    The argument must be an iterable if specified."
   ]
  },
  {
   "cell_type": "markdown",
   "metadata": {
    "slideshow": {
     "slide_type": "slide"
    }
   },
   "source": [
    "    \n",
    "    In [3]: print?\n",
    "    Docstring:\n",
    "    print(value, ..., sep=' ', end='\\n', file=sys.stdout, flush=False)\n",
    "    \n",
    "    Prints the values to a stream, or to sys.stdout by default.\n",
    "    Optional keyword arguments:\n",
    "    file:  a file-like object (stream); defaults to the current sys.stdout.\n",
    "    sep:   string inserted between values, default a space.\n",
    "    end:   string appended after the last value, default a newline.\n",
    "    flush: whether to forcibly flush the stream.\n",
    "    Type:      builtin_function_or_method"
   ]
  },
  {
   "cell_type": "markdown",
   "metadata": {
    "slideshow": {
     "slide_type": "slide"
    }
   },
   "source": [
    "- This is referred to as _object introspection_. \n",
    "- If the object is a function or instance method, the docstring, if defined, will also be shown. \n",
    "\n",
    "Suppose we’d written the following function (which you can reproduce in IPython or Jupyter):\n",
    "\n",
    "```python\n",
    "    def add_numbers(a, b):\n",
    "        \"\"\"\n",
    "        Add two numbers together\n",
    "    \n",
    "        Returns\n",
    "        -------\n",
    "        the_sum : type of arguments\n",
    "        \"\"\"\n",
    "        return a + b\n",
    "```"
   ]
  },
  {
   "cell_type": "markdown",
   "metadata": {
    "slideshow": {
     "slide_type": "slide"
    }
   },
   "source": [
    "Then using `?` shows us the docstring:\n",
    "\n",
    "    In [6]: add_numbers?\n",
    "    Signature: add_numbers(a, b)\n",
    "    Docstring:\n",
    "    Add two numbers together\n",
    "    Returns\n",
    "    -------\n",
    "    the_sum : type of arguments\n",
    "    File:      <ipython-input-9-6a548a216e27>\n",
    "    Type:      function"
   ]
  },
  {
   "cell_type": "markdown",
   "metadata": {
    "slideshow": {
     "slide_type": "skip"
    }
   },
   "source": [
    "`?` has a final usage, which is for searching the IPython namespace in a manner similar to the standard Unix or Windows command line. A number of characters combined with the wildcard (`*`) will show all names matching the wildcard expression. For example, we could get a list of all functions in the top-level NumPy namespace containing `load`:\n",
    "\n",
    "    In [9]: import numpy as np\n",
    "    \n",
    "    In [10]: np.*load*?\n",
    "    np.__loader__\n",
    "    np.load\n",
    "    np.loads\n",
    "    np.loadtxt"
   ]
  },
  {
   "cell_type": "markdown",
   "metadata": {
    "slideshow": {
     "slide_type": "slide"
    }
   },
   "source": [
    "## Python Language Basics[](#tut_basics)"
   ]
  },
  {
   "cell_type": "markdown",
   "metadata": {
    "slideshow": {
     "slide_type": "slide"
    }
   },
   "source": [
    "### Language Semantics[](#language_semantics)\n",
    "\n",
    "The Python language design is distinguished by its emphasis on readability, simplicity, and explicitness. Some people go so far as to liken it to “executable pseudocode.”"
   ]
  },
  {
   "cell_type": "markdown",
   "metadata": {
    "slideshow": {
     "slide_type": "slide"
    }
   },
   "source": [
    "#### Indentation, not braces[](#semantics_whitespace)\n",
    "\n",
    "Python uses whitespace (tabs or spaces) to structure code instead of using braces as in many other languages like R, C++, Java, and Perl. Consider a `for` loop from a sorting algorithm:\n",
    "\n",
    "```python\n",
    "    for x in array:\n",
    "        if x < pivot:\n",
    "            less.append(x)\n",
    "        else:\n",
    "            greater.append(x)\n",
    "```\n",
    "\n",
    "A colon denotes the start of an indented code block after which all of the code must be indented by the same amount until the end of the block."
   ]
  },
  {
   "cell_type": "markdown",
   "metadata": {
    "slideshow": {
     "slide_type": "slide"
    }
   },
   "source": [
    "Note\n",
    "\n",
    "Python statements also do not need to be terminated by semicolons. Semicolons can be used, however, to separate multiple statements on a single line:\n",
    "```python\n",
    "    a = 5; b = 6; c = 7\n",
    "```\n",
    "Putting multiple statements on one line is generally discouraged in Python as it can make code less readable."
   ]
  },
  {
   "cell_type": "markdown",
   "metadata": {
    "slideshow": {
     "slide_type": "slide"
    }
   },
   "source": [
    "#### Everything is an object[](#semantics_everything_object)\n",
    "\n",
    "- Every number, string, data structure, function, class, module, and so on exists in the Python interpreter in its own “box,” which is referred to as a _Python object_. \n",
    "- Each object has an associated _type_ (e.g., _integer_, _string_, or _function_) and internal data. \n",
    "- In practice this makes the language very flexible, as even functions can be treated like any other object."
   ]
  },
  {
   "cell_type": "markdown",
   "metadata": {
    "slideshow": {
     "slide_type": "slide"
    }
   },
   "source": [
    "#### Comments[](#semantics_comments)\n",
    "\n",
    "- Any text preceded by the hash mark (pound sign) `#` is ignored by the Python interpreter. \n",
    "- This is often used to add comments to code. \n",
    "- At times you may also want to exclude certain blocks of code without deleting them. \n",
    "\n",
    "One solution is to _comment out_ the code:\n",
    "```python\n",
    "    results = []\n",
    "    for line in file_handle:\n",
    "        # keep the empty lines for now\n",
    "        # if len(line) == 0:\n",
    "        #   continue\n",
    "        results.append(line.replace(\"foo\", \"bar\"))\n",
    "```"
   ]
  },
  {
   "cell_type": "markdown",
   "metadata": {
    "slideshow": {
     "slide_type": "fragment"
    }
   },
   "source": [
    "Comments can also occur after a line of executed code. While some programmers prefer comments to be placed in the line preceding a particular line of code, this can be useful at times:\n",
    "\n",
    "```python\n",
    "    print(\"Reached this line\")  # Simple status report\n",
    "```"
   ]
  },
  {
   "cell_type": "markdown",
   "metadata": {
    "slideshow": {
     "slide_type": "slide"
    }
   },
   "source": [
    "#### Function and object method calls[](#semantics_function_calls)\n",
    "\n",
    "You call functions using parentheses and passing zero or more arguments, optionally assigning the returned value to a variable:\n",
    "```python\n",
    "    result = f(x, y, z)\n",
    "    g()\n",
    "```"
   ]
  },
  {
   "cell_type": "markdown",
   "metadata": {
    "slideshow": {
     "slide_type": "fragment"
    }
   },
   "source": [
    "Almost every object in Python has attached functions, known as _methods_, that have access to the object’s internal contents. You can call them using the following syntax:\n",
    "\n",
    "```python\n",
    "    obj.some_method(x, y, z)\n",
    "```"
   ]
  },
  {
   "cell_type": "markdown",
   "metadata": {
    "slideshow": {
     "slide_type": "fragment"
    }
   },
   "source": [
    "Functions can take both _positional_ and _keyword_ arguments:\n",
    "```python\n",
    "    result = f(a, b, c, d=5, e=\"foo\")\n",
    "```"
   ]
  },
  {
   "cell_type": "markdown",
   "metadata": {
    "slideshow": {
     "slide_type": "slide"
    }
   },
   "source": [
    "#### Variables and argument passing[](#semantics_references)\n",
    "\n",
    "- When assigning a variable (or _name_) in Python, you are creating a _reference_ to the object shown on the righthand side of the equals sign. \n",
    "\n",
    "In practical terms, consider a list of integers:\n",
    "```python\n",
    "    a = [1, 2, 3]\n",
    "```\n",
    "Suppose we assign `a` to a new variable `b`:\n",
    "\n",
    "```python\n",
    "    b = a\n",
    "    \n",
    "    b\n",
    "```\n",
    "    Out[10]: [1, 2, 3]\n",
    "\n",
    "In some languages, the assignment if `b` will cause the data `[1, 2, 3]` to be copied. In Python, `a` and `b` actually now refer to the same object, the original list `[1, 2, 3]` "
   ]
  },
  {
   "attachments": {
    "a816f4ce-4334-4947-83f7-e567a93e1385.png": {
     "image/png": "[encoded data removed]"
    }
   },
   "cell_type": "markdown",
   "metadata": {
    "slideshow": {
     "slide_type": "subslide"
    }
   },
   "source": [
    "![pda3_0205.png](attachment:a816f4ce-4334-4947-83f7-e567a93e1385.png)\n"
   ]
  },
  {
   "cell_type": "markdown",
   "metadata": {
    "slideshow": {
     "slide_type": "subslide"
    }
   },
   "source": [
    "You can prove this to yourself by appending an element to `a` and then examining `b`:\n",
    "\n",
    "```python\n",
    "    a.append(4)\n",
    "    \n",
    "    b\n",
    "```\n",
    "    Out[12]: [1, 2, 3, 4]"
   ]
  },
  {
   "cell_type": "markdown",
   "metadata": {
    "slideshow": {
     "slide_type": "subslide"
    }
   },
   "source": [
    "Note\n",
    "\n",
    "Assignment is also referred to as _binding_, as we are binding a name to an object. Variable names that have been assigned may occasionally be referred to as bound variables."
   ]
  },
  {
   "cell_type": "markdown",
   "metadata": {
    "slideshow": {
     "slide_type": "slide"
    },
    "tags": []
   },
   "source": [
    "#### Dynamic references, strong types[](#semantics_strongly_typed)\n",
    "\n",
    "Variables in Python have no inherent type associated with them; a variable can refer to a different type of object simply by doing an assignment. There is no problem with the following:"
   ]
  },
  {
   "cell_type": "code",
   "execution_count": 1,
   "metadata": {
    "jp-MarkdownHeadingCollapsed": true,
    "slideshow": {
     "slide_type": "fragment"
    },
    "tags": []
   },
   "outputs": [
    {
     "data": {
      "text/plain": [
       "int"
      ]
     },
     "execution_count": 1,
     "metadata": {},
     "output_type": "execute_result"
    }
   ],
   "source": [
    "a = 5\n",
    "    \n",
    "type(a)"
   ]
  },
  {
   "cell_type": "code",
   "execution_count": 2,
   "metadata": {
    "jp-MarkdownHeadingCollapsed": true,
    "slideshow": {
     "slide_type": "fragment"
    },
    "tags": []
   },
   "outputs": [
    {
     "data": {
      "text/plain": [
       "str"
      ]
     },
     "execution_count": 2,
     "metadata": {},
     "output_type": "execute_result"
    }
   ],
   "source": [
    "    \n",
    "a = \"foo\"\n",
    "    \n",
    "type(a)"
   ]
  },
  {
   "cell_type": "markdown",
   "metadata": {
    "slideshow": {
     "slide_type": "slide"
    },
    "tags": []
   },
   "source": [
    "Variables are names for objects within a particular namespace; the type information is stored in the object itself. "
   ]
  },
  {
   "cell_type": "code",
   "execution_count": 3,
   "metadata": {
    "slideshow": {
     "slide_type": "fragment"
    },
    "tags": []
   },
   "outputs": [
    {
     "ename": "TypeError",
     "evalue": "can only concatenate str (not \"int\") to str",
     "output_type": "error",
     "traceback": [
      "\u001b[0;31m---------------------------------------------------------------------------\u001b[0m",
      "\u001b[0;31mTypeError\u001b[0m                                 Traceback (most recent call last)",
      "\u001b[0;32m<ipython-input-3-7fe5aa79f268>\u001b[0m in \u001b[0;36m<module>\u001b[0;34m\u001b[0m\n\u001b[0;32m----> 1\u001b[0;31m \u001b[0;34m\"5\"\u001b[0m \u001b[0;34m+\u001b[0m \u001b[0;36m5\u001b[0m\u001b[0;34m\u001b[0m\u001b[0;34m\u001b[0m\u001b[0m\n\u001b[0m",
      "\u001b[0;31mTypeError\u001b[0m: can only concatenate str (not \"int\") to str"
     ]
    }
   ],
   "source": [
    "\"5\" + 5"
   ]
  },
  {
   "cell_type": "markdown",
   "metadata": {
    "slideshow": {
     "slide_type": "fragment"
    },
    "tags": []
   },
   "source": [
    "In some languages, the string `'5'` might get implicitly converted (or _cast_) to an integer, thus yielding 10. In other languages the integer `5` might be cast to a string, yielding the concatenated string `'55'`. In Python, such implicit casts are not allowed. "
   ]
  },
  {
   "cell_type": "markdown",
   "metadata": {},
   "source": [
    "In this regard we say that Python is a _strongly typed_ language, which means that every object has a specific type (or _class_), and implicit conversions will occur only in certain permitted circumstances, such as:"
   ]
  },
  {
   "cell_type": "code",
   "execution_count": 4,
   "metadata": {},
   "outputs": [
    {
     "name": "stdout",
     "output_type": "stream",
     "text": [
      "a is <class 'float'>, b is <class 'int'>\n"
     ]
    }
   ],
   "source": [
    "a = 4.5\n",
    "    \n",
    "b = 2\n",
    "    \n",
    "# String formatting, to be visited later\n",
    "print(f\"a is {type(a)}, b is {type(b)}\")"
   ]
  },
  {
   "cell_type": "code",
   "execution_count": 5,
   "metadata": {},
   "outputs": [
    {
     "data": {
      "text/plain": [
       "2.25"
      ]
     },
     "execution_count": 5,
     "metadata": {},
     "output_type": "execute_result"
    }
   ],
   "source": [
    "a / b"
   ]
  },
  {
   "cell_type": "markdown",
   "metadata": {},
   "source": [
    "Here, even though `b` is an integer, it is implicitly converted to a float for the division operation."
   ]
  },
  {
   "cell_type": "markdown",
   "metadata": {},
   "source": [
    "#### Attributes and methods[](#attributes_and_methods)\n",
    "\n",
    "Objects in Python typically have both attributes (other Python objects stored “inside” the object) and methods (functions associated with an object that can have access to the object’s internal data). Both of them are accessed via the syntax <obj.attribute\\_name>:"
   ]
  },
  {
   "cell_type": "code",
   "execution_count": null,
   "metadata": {},
   "outputs": [],
   "source": [
    "a = \"foo\"\n",
    "    \n",
    "#press TAB for completion\n",
    "a."
   ]
  },
  {
   "cell_type": "markdown",
   "metadata": {},
   "source": [
    "#### Imports[](#semantics_imports)\n",
    "\n",
    "In Python, a _module_ is simply a file with the _.py_ extension containing Python code. "
   ]
  },
  {
   "cell_type": "markdown",
   "metadata": {},
   "source": [
    "Suppose we had the following module:\n",
    "\n",
    "```python\n",
    "    # some_module.py\n",
    "    PI = 3.14159\n",
    "    \n",
    "    def f(x):\n",
    "        return x + 2\n",
    "    \n",
    "    def g(a, b):\n",
    "        return a + b\n",
    "```"
   ]
  },
  {
   "cell_type": "markdown",
   "metadata": {},
   "source": [
    "If we wanted to access the variables and functions defined in _some\\_module.py_, from another file in the same directory we could do:\n",
    "```python\n",
    "    import some_module\n",
    "    result = some_module.f(5)\n",
    "    pi = some_module.PI\n",
    "```"
   ]
  },
  {
   "cell_type": "markdown",
   "metadata": {},
   "source": [
    "Or alternately:\n",
    "```python\n",
    "    from some_module import g, PI\n",
    "    result = g(5, PI)\n",
    "```"
   ]
  },
  {
   "cell_type": "markdown",
   "metadata": {},
   "source": [
    "By using the `as` keyword, you can give imports different variable names:\n",
    "```python\n",
    "    import some_module as sm\n",
    "    from some_module import PI as pi, g as gf\n",
    "    \n",
    "    r1 = sm.f(pi)\n",
    "    r2 = gf(6, pi)\n",
    "```"
   ]
  },
  {
   "cell_type": "markdown",
   "metadata": {},
   "source": [
    "#### Binary operators and comparisons[](#semantics_binary_ops)\n",
    "\n",
    "Most of the binary math operations and comparisons use familiar mathematical syntax used in other programming languages:"
   ]
  },
  {
   "cell_type": "code",
   "execution_count": null,
   "metadata": {},
   "outputs": [],
   "source": [
    "5 - 7"
   ]
  },
  {
   "cell_type": "code",
   "execution_count": null,
   "metadata": {},
   "outputs": [],
   "source": [
    "    \n",
    "12 + 21.5"
   ]
  },
  {
   "cell_type": "code",
   "execution_count": null,
   "metadata": {},
   "outputs": [],
   "source": [
    "    \n",
    "5 <= 2"
   ]
  },
  {
   "cell_type": "markdown",
   "metadata": {},
   "source": [
    "See [Table 2.1](https://wesmckinney.com/book/python-basics.html#tbl-table_binary_ops) for all of the available binary operators.\n"
   ]
  },
  {
   "cell_type": "markdown",
   "metadata": {},
   "source": [
    "To check if two variables refer to the same object, use the `is` keyword. Use `is` `not` to check that two objects are not the same:"
   ]
  },
  {
   "cell_type": "code",
   "execution_count": 7,
   "metadata": {},
   "outputs": [],
   "source": [
    "a = [1, 2, 3]\n",
    "    \n",
    "b = a\n",
    "    \n",
    "c = list(a)"
   ]
  },
  {
   "cell_type": "code",
   "execution_count": 8,
   "metadata": {},
   "outputs": [
    {
     "data": {
      "text/plain": [
       "True"
      ]
     },
     "execution_count": 8,
     "metadata": {},
     "output_type": "execute_result"
    }
   ],
   "source": [
    "    \n",
    "a is b\n",
    "\n",
    "    "
   ]
  },
  {
   "cell_type": "code",
   "execution_count": 9,
   "metadata": {},
   "outputs": [
    {
     "data": {
      "text/plain": [
       "True"
      ]
     },
     "execution_count": 9,
     "metadata": {},
     "output_type": "execute_result"
    }
   ],
   "source": [
    "a is not c"
   ]
  },
  {
   "cell_type": "markdown",
   "metadata": {},
   "source": [
    "Since the `list` function always creates a new Python list (i.e., a copy), we can be sure that `c` is distinct from `a`. Comparing with `is` is not the same as the `==` operator, because in this case we have:"
   ]
  },
  {
   "cell_type": "code",
   "execution_count": 10,
   "metadata": {},
   "outputs": [
    {
     "data": {
      "text/plain": [
       "True"
      ]
     },
     "execution_count": 10,
     "metadata": {},
     "output_type": "execute_result"
    }
   ],
   "source": [
    "a == c"
   ]
  },
  {
   "cell_type": "markdown",
   "metadata": {},
   "source": [
    "A common use of `is` and `is` `not` is to check if a variable is `None`, since there is only one instance of `None`:"
   ]
  },
  {
   "cell_type": "code",
   "execution_count": 11,
   "metadata": {},
   "outputs": [
    {
     "data": {
      "text/plain": [
       "True"
      ]
     },
     "execution_count": 11,
     "metadata": {},
     "output_type": "execute_result"
    }
   ],
   "source": [
    "a = None\n",
    "    \n",
    "a is None"
   ]
  },
  {
   "cell_type": "markdown",
   "metadata": {},
   "source": [
    "#### Mutable and immutable objects[](#semantics_mutability)\n",
    "\n",
    "Many objects in Python, such as lists, dictionaries, NumPy arrays, and most user-defined types (classes), are _mutable_. This means that the object or values that they contain can be modified:"
   ]
  },
  {
   "cell_type": "code",
   "execution_count": 12,
   "metadata": {},
   "outputs": [
    {
     "data": {
      "text/plain": [
       "['foo', 2, (3, 4)]"
      ]
     },
     "execution_count": 12,
     "metadata": {},
     "output_type": "execute_result"
    }
   ],
   "source": [
    "a_list = [\"foo\", 2, [4, 5]]\n",
    "    \n",
    "a_list[2] = (3, 4)\n",
    "    \n",
    "a_list"
   ]
  },
  {
   "cell_type": "markdown",
   "metadata": {},
   "source": [
    "Others, like strings and tuples, are immutable, which means their internal data cannot be changed:"
   ]
  },
  {
   "cell_type": "code",
   "execution_count": 13,
   "metadata": {},
   "outputs": [
    {
     "ename": "TypeError",
     "evalue": "'tuple' object does not support item assignment",
     "output_type": "error",
     "traceback": [
      "\u001b[0;31m---------------------------------------------------------------------------\u001b[0m",
      "\u001b[0;31mTypeError\u001b[0m                                 Traceback (most recent call last)",
      "\u001b[0;32m<ipython-input-13-6ecb86bba991>\u001b[0m in \u001b[0;36m<module>\u001b[0;34m\u001b[0m\n\u001b[1;32m      1\u001b[0m \u001b[0ma_tuple\u001b[0m \u001b[0;34m=\u001b[0m \u001b[0;34m(\u001b[0m\u001b[0;36m3\u001b[0m\u001b[0;34m,\u001b[0m \u001b[0;36m5\u001b[0m\u001b[0;34m,\u001b[0m \u001b[0;34m(\u001b[0m\u001b[0;36m4\u001b[0m\u001b[0;34m,\u001b[0m \u001b[0;36m5\u001b[0m\u001b[0;34m)\u001b[0m\u001b[0;34m)\u001b[0m\u001b[0;34m\u001b[0m\u001b[0;34m\u001b[0m\u001b[0m\n\u001b[1;32m      2\u001b[0m \u001b[0;34m\u001b[0m\u001b[0m\n\u001b[0;32m----> 3\u001b[0;31m \u001b[0ma_tuple\u001b[0m\u001b[0;34m[\u001b[0m\u001b[0;36m1\u001b[0m\u001b[0;34m]\u001b[0m \u001b[0;34m=\u001b[0m \u001b[0;34m\"four\"\u001b[0m\u001b[0;34m\u001b[0m\u001b[0;34m\u001b[0m\u001b[0m\n\u001b[0m",
      "\u001b[0;31mTypeError\u001b[0m: 'tuple' object does not support item assignment"
     ]
    }
   ],
   "source": [
    "a_tuple = (3, 5, (4, 5))\n",
    "    \n",
    "a_tuple[1] = \"four\""
   ]
  },
  {
   "cell_type": "markdown",
   "metadata": {},
   "source": [
    "Remember that just because you _can_ mutate an object does not mean that you always _should_. Such actions are known as _side effects_. For example, when writing a function, any side effects should be explicitly communicated to the user in the function’s documentation or comments. If possible, try to avoid side effects and _favor immutability_, even though there may be mutable objects involved."
   ]
  },
  {
   "cell_type": "markdown",
   "metadata": {},
   "source": [
    "### Scalar Types[](#scalar_types)\n",
    "\n",
    "Python has a small set of built-in types for handling numerical data, strings, Boolean (`True` or `False`) values, and dates and time. These \"single value\" types are sometimes called _scalar types_, and we refer to them in this book as _scalars_ . See [Table 2.2](https://wesmckinney.com/book/python-basics.html#tbl-table_python_scalar_types) for a list of the main scalar types. "
   ]
  },
  {
   "cell_type": "markdown",
   "metadata": {},
   "source": [
    "Date and time handling will be discussed separately, as these are provided by the `datetime` module in the standard library."
   ]
  },
  {
   "cell_type": "markdown",
   "metadata": {},
   "source": [
    "#### Numeric types[](#scalar_numeric)\n",
    "\n",
    "The primary Python types for numbers are `int` and `float`. An `int` can store arbitrarily large numbers:"
   ]
  },
  {
   "cell_type": "code",
   "execution_count": 14,
   "metadata": {},
   "outputs": [
    {
     "data": {
      "text/plain": [
       "26254519291092456596965462913230729701102721"
      ]
     },
     "execution_count": 14,
     "metadata": {},
     "output_type": "execute_result"
    }
   ],
   "source": [
    "ival = 17239871\n",
    "    \n",
    "ival ** 6"
   ]
  },
  {
   "cell_type": "markdown",
   "metadata": {},
   "source": [
    "Floating-point numbers are represented with the Python `float` type. Under the hood, each one is a double-precision value. They can also be expressed with scientific notation:"
   ]
  },
  {
   "cell_type": "code",
   "execution_count": 15,
   "metadata": {},
   "outputs": [],
   "source": [
    "fval = 7.243\n",
    "    \n",
    "fval2 = 6.78e-5"
   ]
  },
  {
   "cell_type": "markdown",
   "metadata": {},
   "source": [
    "Integer division not resulting in a whole number will always yield a floating-point number:"
   ]
  },
  {
   "cell_type": "code",
   "execution_count": null,
   "metadata": {},
   "outputs": [],
   "source": [
    "3 / 2"
   ]
  },
  {
   "cell_type": "markdown",
   "metadata": {},
   "source": [
    "To get C-style integer division (which drops the fractional part if the result is not a whole number), use the floor division operator `//`:"
   ]
  },
  {
   "cell_type": "code",
   "execution_count": null,
   "metadata": {},
   "outputs": [],
   "source": [
    "3 // 2"
   ]
  },
  {
   "cell_type": "markdown",
   "metadata": {},
   "source": [
    "#### Strings[](#scalar_strings)\n",
    "\n",
    "Many people use Python for its built-in string handling capabilities. You can write _string literals_ using either single quotes `'` or double quotes `\"` (double quotes are generally favored):"
   ]
  },
  {
   "cell_type": "code",
   "execution_count": 16,
   "metadata": {},
   "outputs": [],
   "source": [
    "    a = 'one way of writing a string'\n",
    "    b = \"another way\""
   ]
  },
  {
   "cell_type": "markdown",
   "metadata": {},
   "source": [
    "The Python string type is `str`."
   ]
  },
  {
   "cell_type": "markdown",
   "metadata": {},
   "source": [
    "For multiline strings with line breaks, you can use triple quotes, either `'''` or `\"\"\"`:"
   ]
  },
  {
   "cell_type": "code",
   "execution_count": 17,
   "metadata": {},
   "outputs": [],
   "source": [
    "    c = \"\"\"\n",
    "    This is a longer string that\n",
    "    spans multiple lines\n",
    "    \"\"\""
   ]
  },
  {
   "cell_type": "markdown",
   "metadata": {},
   "source": [
    "It may surprise you that this string `c` actually contains four lines of text; the line breaks after `\"\"\"` and after `lines` are included in the string. We can count the new line characters with the `count` method on `c`:"
   ]
  },
  {
   "cell_type": "code",
   "execution_count": 18,
   "metadata": {},
   "outputs": [
    {
     "data": {
      "text/plain": [
       "3"
      ]
     },
     "execution_count": 18,
     "metadata": {},
     "output_type": "execute_result"
    }
   ],
   "source": [
    "c.count(\"\\n\")"
   ]
  },
  {
   "cell_type": "markdown",
   "metadata": {},
   "source": [
    "Python strings are immutable; you cannot modify a string:"
   ]
  },
  {
   "cell_type": "code",
   "execution_count": 19,
   "metadata": {},
   "outputs": [
    {
     "ename": "TypeError",
     "evalue": "'str' object does not support item assignment",
     "output_type": "error",
     "traceback": [
      "\u001b[0;31m---------------------------------------------------------------------------\u001b[0m",
      "\u001b[0;31mTypeError\u001b[0m                                 Traceback (most recent call last)",
      "\u001b[0;32m<ipython-input-19-65001f949011>\u001b[0m in \u001b[0;36m<module>\u001b[0;34m\u001b[0m\n\u001b[1;32m      1\u001b[0m \u001b[0ma\u001b[0m \u001b[0;34m=\u001b[0m \u001b[0;34m\"this is a string\"\u001b[0m\u001b[0;34m\u001b[0m\u001b[0;34m\u001b[0m\u001b[0m\n\u001b[1;32m      2\u001b[0m \u001b[0;34m\u001b[0m\u001b[0m\n\u001b[0;32m----> 3\u001b[0;31m \u001b[0ma\u001b[0m\u001b[0;34m[\u001b[0m\u001b[0;36m10\u001b[0m\u001b[0;34m]\u001b[0m \u001b[0;34m=\u001b[0m \u001b[0;34m\"f\"\u001b[0m\u001b[0;34m\u001b[0m\u001b[0;34m\u001b[0m\u001b[0m\n\u001b[0m",
      "\u001b[0;31mTypeError\u001b[0m: 'str' object does not support item assignment"
     ]
    }
   ],
   "source": [
    "a = \"this is a string\"\n",
    "    \n",
    "a[10] = \"f\""
   ]
  },
  {
   "cell_type": "markdown",
   "metadata": {},
   "source": [
    "To interpret this error message, read from the bottom up. We tried to replace the character (the \"item\") at position 10 with the letter `\"f\"`, but this is not allowed for string objects. "
   ]
  },
  {
   "cell_type": "markdown",
   "metadata": {},
   "source": [
    "If we need to modify a string, we have to use a function or method that creates a new string, such as the string `replace` method:"
   ]
  },
  {
   "cell_type": "code",
   "execution_count": null,
   "metadata": {},
   "outputs": [],
   "source": [
    "b = a.replace(\"string\", \"longer string\")\n",
    "    \n",
    "b"
   ]
  },
  {
   "cell_type": "markdown",
   "metadata": {},
   "source": [
    "Afer this operation, the variable `a` is unmodified:"
   ]
  },
  {
   "cell_type": "code",
   "execution_count": null,
   "metadata": {},
   "outputs": [],
   "source": [
    "a"
   ]
  },
  {
   "cell_type": "markdown",
   "metadata": {},
   "source": [
    "Many Python objects can be converted to a string using the `str` function:"
   ]
  },
  {
   "cell_type": "code",
   "execution_count": 20,
   "metadata": {},
   "outputs": [
    {
     "name": "stdout",
     "output_type": "stream",
     "text": [
      "5.6\n"
     ]
    }
   ],
   "source": [
    "a = 5.6\n",
    "    \n",
    "s = str(a)\n",
    "    \n",
    "print(s)"
   ]
  },
  {
   "cell_type": "markdown",
   "metadata": {},
   "source": [
    "Strings are a sequence of Unicode characters and therefore can be treated like other sequences, such as lists and tuples:"
   ]
  },
  {
   "cell_type": "code",
   "execution_count": 21,
   "metadata": {},
   "outputs": [
    {
     "data": {
      "text/plain": [
       "['p', 'y', 't', 'h', 'o', 'n']"
      ]
     },
     "execution_count": 21,
     "metadata": {},
     "output_type": "execute_result"
    }
   ],
   "source": [
    "s = \"python\"\n",
    "    \n",
    "list(s)"
   ]
  },
  {
   "cell_type": "code",
   "execution_count": 22,
   "metadata": {},
   "outputs": [
    {
     "data": {
      "text/plain": [
       "'pyt'"
      ]
     },
     "execution_count": 22,
     "metadata": {},
     "output_type": "execute_result"
    }
   ],
   "source": [
    "s[:3]"
   ]
  },
  {
   "cell_type": "markdown",
   "metadata": {},
   "source": [
    "The syntax `s[:3]` is called _slicing_ and is implemented for many kinds of Python sequences. This will be explained in more detail later on"
   ]
  },
  {
   "cell_type": "markdown",
   "metadata": {},
   "source": [
    "The backslash character `\\` is an _escape character_, meaning that it is used to specify special characters like newline `\\n` or Unicode characters. To write a string literal with backslashes, you need to escape them:"
   ]
  },
  {
   "cell_type": "code",
   "execution_count": 23,
   "metadata": {},
   "outputs": [
    {
     "name": "stdout",
     "output_type": "stream",
     "text": [
      "12\\34\n"
     ]
    }
   ],
   "source": [
    "s = \"12\\\\34\"\n",
    "    \n",
    "print(s)"
   ]
  },
  {
   "cell_type": "markdown",
   "metadata": {},
   "source": [
    "If you have a string with a lot of backslashes and no special characters, you might find this a bit annoying. Fortunately you can preface the leading quote of the string with `r`, which means that the characters should be interpreted as is:"
   ]
  },
  {
   "cell_type": "code",
   "execution_count": 24,
   "metadata": {},
   "outputs": [
    {
     "data": {
      "text/plain": [
       "'this\\\\has\\\\no\\\\special\\\\characters'"
      ]
     },
     "execution_count": 24,
     "metadata": {},
     "output_type": "execute_result"
    }
   ],
   "source": [
    "s = r\"this\\has\\no\\special\\characters\"\n",
    "    \n",
    "s"
   ]
  },
  {
   "cell_type": "markdown",
   "metadata": {},
   "source": [
    "The `r` stands for _raw_."
   ]
  },
  {
   "cell_type": "markdown",
   "metadata": {},
   "source": [
    "Adding two strings together concatenates them and produces a new string:"
   ]
  },
  {
   "cell_type": "code",
   "execution_count": 25,
   "metadata": {},
   "outputs": [
    {
     "data": {
      "text/plain": [
       "'this is the first half and this is the second half'"
      ]
     },
     "execution_count": 25,
     "metadata": {},
     "output_type": "execute_result"
    }
   ],
   "source": [
    "a = \"this is the first half \"\n",
    "    \n",
    "b = \"and this is the second half\"\n",
    "    \n",
    "a + b"
   ]
  },
  {
   "cell_type": "markdown",
   "metadata": {},
   "source": [
    "String templating or formatting is another important topic. String objects have a `format` method that can be used to substitute formatted arguments into the string, producing a new string:"
   ]
  },
  {
   "cell_type": "code",
   "execution_count": 26,
   "metadata": {},
   "outputs": [],
   "source": [
    "template = \"{0:.2f} {1:s} are worth US${2:d}\""
   ]
  },
  {
   "cell_type": "markdown",
   "metadata": {},
   "source": [
    "In this string:\n",
    "\n",
    "*   `{0:.2f}` means to format the first argument as a floating-point number with two decimal places.\n",
    "    \n",
    "*   `{1:s}` means to format the second argument as a string.\n",
    "    \n",
    "*   `{2:d}` means to format the third argument as an exact integer."
   ]
  },
  {
   "cell_type": "markdown",
   "metadata": {},
   "source": [
    "To substitute arguments for these format parameters, we pass a sequence of arguments to the `format` method:"
   ]
  },
  {
   "cell_type": "code",
   "execution_count": 27,
   "metadata": {},
   "outputs": [
    {
     "data": {
      "text/plain": [
       "'88.46 Argentine Pesos are worth US$1'"
      ]
     },
     "execution_count": 27,
     "metadata": {},
     "output_type": "execute_result"
    }
   ],
   "source": [
    "template.format(88.46, \"Argentine Pesos\", 1)"
   ]
  },
  {
   "cell_type": "markdown",
   "metadata": {},
   "source": [
    "Python 3.6 introduced a new feature called _f-strings_ (short for _formatted string literals_) which can make creating formatted strings even more convenient. To create an f-string, write the character `f` immediately preceding a string literal. Within the string, enclose Python expressions in curly braces to substitute the value of the expression into the formatted string:"
   ]
  },
  {
   "cell_type": "code",
   "execution_count": 30,
   "metadata": {},
   "outputs": [
    {
     "name": "stdout",
     "output_type": "stream",
     "text": [
      "10 Pesos is worth US$0.11304544426859599\n"
     ]
    }
   ],
   "source": [
    "amount = 10\n",
    "    \n",
    "rate = 88.46\n",
    "    \n",
    "currency = \"Pesos\"\n",
    "    \n",
    "result = f\"{amount} {currency} is worth US${amount / rate}\"\n",
    "\n",
    "print(result)"
   ]
  },
  {
   "cell_type": "markdown",
   "metadata": {},
   "source": [
    "Format specifiers can be added after each expression using the same syntax as with the string templates above:"
   ]
  },
  {
   "cell_type": "code",
   "execution_count": 29,
   "metadata": {},
   "outputs": [
    {
     "data": {
      "text/plain": [
       "'10 Pesos is worth US$0.11'"
      ]
     },
     "execution_count": 29,
     "metadata": {},
     "output_type": "execute_result"
    }
   ],
   "source": [
    "f\"{amount} {currency} is worth US${amount / rate:.2f}\""
   ]
  },
  {
   "cell_type": "markdown",
   "metadata": {},
   "source": [
    "String formatting is a deep topic; there are multiple methods and numerous options and tweaks available to control how values are formatted in the resulting string. To learn more, consult the [official Python documentation](https://docs.python.org/3/library/string.html)."
   ]
  },
  {
   "cell_type": "markdown",
   "metadata": {},
   "source": [
    "#### Bytes and Unicode[](#scalar_bytes)\n",
    "\n",
    "In modern Python (i.e., Python 3.0 and up), Unicode has become the first-class string type to enable more consistent handling of ASCII and non-ASCII text. In older versions of Python, strings were all bytes without any explicit Unicode encoding. You could convert to Unicode assuming you knew the character encoding. Here is an example Unicode string with non-ASCII characters:"
   ]
  },
  {
   "cell_type": "code",
   "execution_count": 31,
   "metadata": {},
   "outputs": [
    {
     "data": {
      "text/plain": [
       "'español'"
      ]
     },
     "execution_count": 31,
     "metadata": {},
     "output_type": "execute_result"
    }
   ],
   "source": [
    "val = \"español\"\n",
    "    \n",
    "val"
   ]
  },
  {
   "cell_type": "markdown",
   "metadata": {},
   "source": [
    "We can convert this Unicode string to its UTF-8 bytes representation using the `encode` method:"
   ]
  },
  {
   "cell_type": "code",
   "execution_count": 32,
   "metadata": {},
   "outputs": [
    {
     "data": {
      "text/plain": [
       "b'espa\\xc3\\xb1ol'"
      ]
     },
     "execution_count": 32,
     "metadata": {},
     "output_type": "execute_result"
    }
   ],
   "source": [
    "val_utf8 = val.encode(\"utf-8\")\n",
    "    \n",
    "val_utf8"
   ]
  },
  {
   "cell_type": "code",
   "execution_count": 33,
   "metadata": {},
   "outputs": [
    {
     "data": {
      "text/plain": [
       "bytes"
      ]
     },
     "execution_count": 33,
     "metadata": {},
     "output_type": "execute_result"
    }
   ],
   "source": [
    "type(val_utf8)"
   ]
  },
  {
   "cell_type": "markdown",
   "metadata": {
    "jp-MarkdownHeadingCollapsed": true,
    "tags": []
   },
   "source": [
    "Assuming you know the Unicode encoding of a `bytes` object, you can go back using the `decode` method:"
   ]
  },
  {
   "cell_type": "code",
   "execution_count": 34,
   "metadata": {
    "jp-MarkdownHeadingCollapsed": true,
    "tags": []
   },
   "outputs": [
    {
     "data": {
      "text/plain": [
       "'español'"
      ]
     },
     "execution_count": 34,
     "metadata": {},
     "output_type": "execute_result"
    }
   ],
   "source": [
    "val_utf8.decode(\"utf-8\")"
   ]
  },
  {
   "cell_type": "markdown",
   "metadata": {
    "jp-MarkdownHeadingCollapsed": true,
    "tags": []
   },
   "source": [
    "While it is now preferable to use UTF-8 for any encoding, for historical reasons you may encounter data in any number of different encodings:"
   ]
  },
  {
   "cell_type": "code",
   "execution_count": 35,
   "metadata": {
    "jp-MarkdownHeadingCollapsed": true,
    "tags": []
   },
   "outputs": [
    {
     "data": {
      "text/plain": [
       "b'espa\\xf1ol'"
      ]
     },
     "execution_count": 35,
     "metadata": {},
     "output_type": "execute_result"
    }
   ],
   "source": [
    "val.encode(\"latin1\")"
   ]
  },
  {
   "cell_type": "code",
   "execution_count": 36,
   "metadata": {
    "jp-MarkdownHeadingCollapsed": true,
    "tags": []
   },
   "outputs": [
    {
     "data": {
      "text/plain": [
       "b'\\xff\\xfee\\x00s\\x00p\\x00a\\x00\\xf1\\x00o\\x00l\\x00'"
      ]
     },
     "execution_count": 36,
     "metadata": {},
     "output_type": "execute_result"
    }
   ],
   "source": [
    "  \n",
    "val.encode(\"utf-16\")"
   ]
  },
  {
   "cell_type": "code",
   "execution_count": 37,
   "metadata": {
    "jp-MarkdownHeadingCollapsed": true,
    "tags": []
   },
   "outputs": [
    {
     "data": {
      "text/plain": [
       "b'e\\x00s\\x00p\\x00a\\x00\\xf1\\x00o\\x00l\\x00'"
      ]
     },
     "execution_count": 37,
     "metadata": {},
     "output_type": "execute_result"
    }
   ],
   "source": [
    "val.encode(\"utf-16le\")"
   ]
  },
  {
   "cell_type": "markdown",
   "metadata": {
    "jp-MarkdownHeadingCollapsed": true,
    "tags": []
   },
   "source": [
    "It is most common to encounter `bytes` objects in the context of working with files, where implicitly decoding all data to Unicode strings may not be desired."
   ]
  },
  {
   "cell_type": "markdown",
   "metadata": {
    "jp-MarkdownHeadingCollapsed": true,
    "tags": []
   },
   "source": [
    "#### Booleans[](#scalar_boolean)\n",
    "\n",
    "The two Boolean values in Python are written as `True` and `False`. Comparisons and other conditional expressions evaluate to either `True` or `False`. Boolean values are combined with the `and` and `or` keywords:\n",
    "\n",
    "True and True\n",
    "\n",
    "    \n",
    "False or True\n",
    "\n",
    "\n",
    "When converted to numbers, `False` becomes `0` and `True` becomes `1`:\n",
    "\n",
    "int(False)\n",
    "\n",
    "    \n",
    "int(True)\n",
    "\n",
    "\n",
    "The keyword `not` flips a Boolean value from `True` to `False` or vice versa:\n",
    "\n",
    "a = True\n",
    "    \n",
    "b = False\n",
    "    \n",
    "not a\n",
    "\n",
    "    \n",
    "not b\n",
    "\n",
    "\n",
    "#### Type casting[](#scalar_casting)\n",
    "\n",
    "The `str`, `bool`, `int`, and `float` types are also functions that can be used to cast values to those types:\n",
    "\n",
    "s = \"3.14159\"\n",
    "    \n",
    "fval = float(s)\n",
    "    \n",
    "type(fval)\n",
    "\n",
    "    \n",
    "int(fval)\n",
    "\n",
    "    \n",
    "bool(fval)\n",
    "\n",
    "    \n",
    "bool(0)\n",
    "\n",
    "\n",
    "Note that most nonzero values when cast to `bool` become `True`.\n",
    "\n",
    "#### None[](#scalar_none)\n",
    "\n",
    "`None` is the Python null value type:\n",
    "\n",
    "a = None\n",
    "    \n",
    "a is None\n",
    "\n",
    "    \n",
    "b = 5\n",
    "    \n",
    "b is not None\n",
    "\n",
    "\n",
    "`None` is also a common default value for function arguments:\n",
    "\n",
    "    def add_and_maybe_multiply(a, b, c=None):\n",
    "        result = a + b\n",
    "    \n",
    "        if c is not None:\n",
    "            result = result * c\n",
    "    \n",
    "        return result\n",
    "\n",
    "#### Dates and times[](#scalar_dates)\n",
    "\n",
    "The built-in Python `datetime` module provides `datetime`, `date`, and `time` types. The `datetime` type combines the information stored in `date` and `time` and is the most commonly used:\n",
    "\n",
    "from datetime import datetime, date, time\n",
    "    \n",
    "dt = datetime(2011, 10, 29, 20, 30, 21)\n",
    "    \n",
    "dt.day\n",
    "\n",
    "    \n",
    "dt.minute\n",
    "\n",
    "\n",
    "Given a `datetime` instance, you can extract the equivalent `date` and `time` objects by calling methods on the `datetime` of the same name:\n",
    "\n",
    "dt.date()\n",
    "\n",
    "    \n",
    "dt.time()\n",
    "\n",
    "\n",
    "The `strftime` method formats a `datetime` as a string:\n",
    "\n",
    "dt.strftime(\"%Y-%m-%d %H:%M\")\n",
    "\n",
    "\n",
    "Strings can be converted (parsed) into `datetime` objects with the `strptime` function:\n",
    "\n",
    "datetime.strptime(\"20091031\", \"%Y%m%d\")\n",
    "\n",
    "\n",
    "See [???](https://wesmckinney.com/book/python-basics.html#table_datetime_formatting) for a full list of format specifications.\n",
    "\n",
    "When you are aggregating or otherwise grouping time series data, it will occasionally be useful to replace time fields of a series of `datetime`s—for example, replacing the `minute` and `second` fields with zero:\n",
    "\n",
    "dt_hour = dt.replace(minute=0, second=0)\n",
    "    \n",
    "dt_hour\n",
    "\n",
    "\n",
    "Since `datetime.datetime` is an immutable type, methods like these always produce new objects. So in the previous example, `dt` is not modified by `replace`:\n",
    "\n",
    "dt\n",
    "\n",
    "\n",
    "The difference of two `datetime` objects produces a `datetime.timedelta` type:\n",
    "\n",
    "dt2 = datetime(2011, 11, 15, 22, 30)\n",
    "    \n",
    "delta = dt2 - dt\n",
    "    \n",
    "delta\n",
    "\n",
    "    \n",
    "type(delta)\n",
    "\n",
    "\n",
    "The output `timedelta(17, 7179)` indicates that the `timedelta` encodes an offset of 17 days and 7,179 seconds.\n",
    "\n",
    "Adding a `timedelta` to a `datetime` produces a new shifted `datetime`:\n",
    "\n",
    "dt\n",
    "\n",
    "    \n",
    "dt + delta\n",
    "\n",
    "\n",
    "### Control Flow[](#control_flow)\n",
    "\n",
    "Python has several built-in keywords for conditional logic, loops, and other standard _control flow_ concepts found in other programming languages.\n",
    "\n",
    "#### if, elif, and else[](#control_if_else)\n",
    "\n",
    "The `if` statement is one of the most well-known control flow statement types. It checks a condition that, if `True`, evaluates the code in the block that follows:\n",
    "\n",
    "    x = -5\n",
    "    if x < 0:\n",
    "        print(\"It's negative\")\n",
    "\n",
    "An `if` statement can be optionally followed by one or more `elif` blocks and a catchall `else` block if all of the conditions are `False`:\n",
    "\n",
    "    if x < 0:\n",
    "        print(\"It's negative\")\n",
    "    elif x == 0:\n",
    "        print(\"Equal to zero\")\n",
    "    elif 0 < x < 5:\n",
    "        print(\"Positive but smaller than 5\")\n",
    "    else:\n",
    "        print(\"Positive and larger than or equal to 5\")\n",
    "\n",
    "If any of the conditions are `True`, no further `elif` or `else` blocks will be reached. With a compound condition using `and` or `or`, conditions are evaluated left to right and will short-circuit:\n",
    "\n",
    "a = 5; b = 7\n",
    "    \n",
    "c = 8; d = 4\n",
    "    \n",
    "if a < b or c > d:\n",
    "       .....:     print(\"Made it\")\n",
    "    Made it\n",
    "\n",
    "In this example, the comparison `c > d` never gets evaluated because the first comparison was `True`.\n",
    "\n",
    "It is also possible to chain comparisons:\n",
    "\n",
    "4 > 3 > 2 > 1\n",
    "\n",
    "\n",
    "#### for loops[](#control_for)\n",
    "\n",
    "`for` loops are for iterating over a collection (like a list or tuple) or an iterater. The standard syntax for a `for` loop is:\n",
    "\n",
    "    for value in collection:\n",
    "        # do something with value\n",
    "\n",
    "You can advance a `for` loop to the next iteration, skipping the remainder of the block, using the `continue` keyword. Consider this code, which sums up integers in a list and skips `None` values:\n",
    "\n",
    "    sequence = [1, 2, None, 4, None, 5]\n",
    "    total = 0\n",
    "    for value in sequence:\n",
    "        if value is None:\n",
    "            continue\n",
    "        total += value\n",
    "\n",
    "A `for` loop can be exited altogether with the `break` keyword. This code sums elements of the list until a 5 is reached:\n",
    "\n",
    "    sequence = [1, 2, 0, 4, 6, 5, 2, 1]\n",
    "    total_until_5 = 0\n",
    "    for value in sequence:\n",
    "        if value == 5:\n",
    "            break\n",
    "        total_until_5 += value\n",
    "\n",
    "The `break` keyword only terminates the innermost `for` loop; any outer `for` loops will continue to run:\n",
    "\n",
    "for i in range(4):\n",
    "       .....:     for j in range(4):\n",
    "       .....:         if j > i:\n",
    "       .....:             break\n",
    "       .....:         print((i, j))\n",
    "       .....:\n",
    "    (0, 0)\n",
    "    (1, 0)\n",
    "    (1, 1)\n",
    "    (2, 0)\n",
    "    (2, 1)\n",
    "    (2, 2)\n",
    "    (3, 0)\n",
    "    (3, 1)\n",
    "    (3, 2)\n",
    "    (3, 3)\n",
    "\n",
    "As we will see in more detail, if the elements in the collection or iterator are sequences (tuples or lists, say), they can be conveniently _unpacked_ into variables in the `for` loop statement:\n",
    "\n",
    "    for a, b, c in iterator:\n",
    "        # do something\n",
    "\n",
    "#### while loops[](#control_while)\n",
    "\n",
    "A `while` loop specifies a condition and a block of code that is to be executed until the condition evaluates to `False` or the loop is explicitly ended with `break`:\n",
    "\n",
    "    x = 256\n",
    "    total = 0\n",
    "    while x > 0:\n",
    "        if total > 500:\n",
    "            break\n",
    "        total += x\n",
    "        x = x // 2\n",
    "\n",
    "#### pass[](#control_pass)\n",
    "\n",
    "`pass` is the “no-op” (or \"do nothing\") statement in Python. It can be used in blocks where no action is to be taken (or as a placeholder for code not yet implemented); it is required only because Python uses whitespace to delimit blocks:\n",
    "\n",
    "    if x < 0:\n",
    "        print(\"negative!\")\n",
    "    elif x == 0:\n",
    "        # TODO: put something smart here\n",
    "        pass\n",
    "    else:\n",
    "        print(\"positive!\")\n",
    "\n",
    "#### range[](#control_range)\n",
    "\n",
    "The `range` function generates a sequence of evenly spaced integers:\n",
    "\n",
    "range(10)\n",
    "\n",
    "    \n",
    "list(range(10))\n",
    "\n",
    "\n",
    "A start, end, and step (which may be negative) can be given:\n",
    "\n",
    "list(range(0, 20, 2))\n",
    "\n",
    "    \n",
    "list(range(5, 0, -1))\n",
    "\n",
    "\n",
    "As you can see, `range` produces integers up to but not including the endpoint. A common use of `range` is for iterating through sequences by index:\n",
    "\n",
    "seq = [1, 2, 3, 4]\n",
    "    \n",
    "for i in range(len(seq)):\n",
    "       .....:     print(f\"element {i}: {seq[i]}\")\n",
    "    element 0: 1\n",
    "    element 1: 2\n",
    "    element 2: 3\n",
    "    element 3: 4\n",
    "\n",
    "While you can use functions like `list` to store all the integers generated by `range` in some other data structure, often the default iterator form will be what you want. This snippet sums all numbers from 0 to 99,999 that are multiples of 3 or 5:\n",
    "\n",
    "total = 0\n",
    "    \n",
    "for i in range(100_000):\n",
    "       .....:     # % is the modulo operator\n",
    "       .....:     if i % 3 == 0 or i % 5 == 0:\n",
    "       .....:         total += i\n",
    "    \n",
    "print(total)\n",
    "    2333316668\n",
    "\n",
    "While the range generated can be arbitrarily large, the memory use at any given time may be very small.\n",
    "\n",
    "## 2.4 Conclusion[](#python_tutorial_summary)\n",
    "\n",
    "This chapter provided a brief introduction to some basic Python language concepts and the IPython and Jupyter programming environments. In the next chapter, I will discuss many built-in data types, functions, and input-output utilities that will be used continuously throughout the rest of the book."
   ]
  },
  {
   "cell_type": "code",
   "execution_count": 1,
   "metadata": {},
   "outputs": [],
   "source": [
    "#! ipython suppress id=b0641b6ae09942babe0c88f69c55482d\n",
    "%pushd book-materials\n",
    "import numpy as np\n",
    "np.random.seed(12345)\n",
    "np.set_printoptions(precision=4, suppress=True)"
   ]
  },
  {
   "cell_type": "code",
   "execution_count": 2,
   "metadata": {},
   "outputs": [],
   "source": [
    "#! ipython id=085dfdc5abf744bebb6e84ea614aa99d\n",
    "import numpy as np\n",
    "data = [np.random.standard_normal() for i in range(7)]\n",
    "data"
   ]
  },
  {
   "cell_type": "code",
   "execution_count": 3,
   "metadata": {},
   "outputs": [],
   "source": [
    "#! ipython id=1a4e6fcb22eb4f89986abfae4c83b48d\n",
    "a = [1, 2, 3]"
   ]
  },
  {
   "cell_type": "code",
   "execution_count": 4,
   "metadata": {},
   "outputs": [],
   "source": [
    "#! ipython id=64f8a5dfa016429c8d659bf729003401\n",
    "b = a\n",
    "b"
   ]
  },
  {
   "cell_type": "code",
   "execution_count": 5,
   "metadata": {},
   "outputs": [],
   "source": [
    "#! ipython id=0eced45afa5347248bb2af66fa5c4e2b\n",
    "a.append(4)\n",
    "b"
   ]
  },
  {
   "cell_type": "code",
   "execution_count": 6,
   "metadata": {},
   "outputs": [],
   "source": [
    "#! ipython id=1018283ab59f4f05bfe84afca4fc9936\n",
    "def append_element(some_list, element):\n",
    "    some_list.append(element)"
   ]
  },
  {
   "cell_type": "code",
   "execution_count": 7,
   "metadata": {},
   "outputs": [],
   "source": [
    "#! ipython id=2edb843baee44895b71dbd9474407c9c\n",
    "data = [1, 2, 3]\n",
    "append_element(data, 4)\n",
    "data"
   ]
  },
  {
   "cell_type": "code",
   "execution_count": 8,
   "metadata": {},
   "outputs": [],
   "source": [
    "#! ipython id=e71481e654d64e649533772a2381a3c6\n",
    "a = 5\n",
    "type(a)\n",
    "a = \"foo\"\n",
    "type(a)"
   ]
  },
  {
   "cell_type": "code",
   "execution_count": 9,
   "metadata": {},
   "outputs": [],
   "source": [
    "#! ipython allow_exceptions id=c9cf6d998c39413a9fc48646f91dec3e\n",
    "\"5\" + 5"
   ]
  },
  {
   "cell_type": "code",
   "execution_count": 10,
   "metadata": {},
   "outputs": [],
   "source": [
    "#! ipython id=0003b825a15647e49598d18de47cbd57\n",
    "a = 4.5\n",
    "b = 2\n",
    "# String formatting, to be visited later\n",
    "print(f\"a is {type(a)}, b is {type(b)}\")\n",
    "a / b"
   ]
  },
  {
   "cell_type": "code",
   "execution_count": 11,
   "metadata": {},
   "outputs": [],
   "source": [
    "#! ipython id=f3d0ca0ebd384742976ccd83633ac8be\n",
    "a = 5\n",
    "isinstance(a, int)"
   ]
  },
  {
   "cell_type": "code",
   "execution_count": 12,
   "metadata": {},
   "outputs": [],
   "source": [
    "#! ipython id=5dacb5ef6e394fe7a8b3f724cb9cdf4d\n",
    "a = 5; b = 4.5\n",
    "isinstance(a, (int, float))\n",
    "isinstance(b, (int, float))"
   ]
  },
  {
   "cell_type": "code",
   "execution_count": 13,
   "metadata": {},
   "outputs": [],
   "source": [
    "#! ipython suppress id=7bd32461c0bf45ff9bee3de05a7fa5cf\n",
    "a = \"foo\""
   ]
  },
  {
   "cell_type": "code",
   "execution_count": 14,
   "metadata": {},
   "outputs": [],
   "source": [
    "#! ipython id=d2aef8895e6f4b67aaa1d6cbd2b6affa\n",
    "getattr(a, \"split\")"
   ]
  },
  {
   "cell_type": "code",
   "execution_count": 15,
   "metadata": {},
   "outputs": [],
   "source": [
    "#! ipython id=f2617db9765f49009c55756ce9cf87cd\n",
    "def isiterable(obj):\n",
    "    try:\n",
    "        iter(obj)\n",
    "        return True\n",
    "    except TypeError: # not iterable\n",
    "        return False"
   ]
  },
  {
   "cell_type": "code",
   "execution_count": 16,
   "metadata": {},
   "outputs": [],
   "source": [
    "#! ipython id=1ea41933d16e460380316fd7a4e0b1d8\n",
    "isiterable(\"a string\")\n",
    "isiterable([1, 2, 3])\n",
    "isiterable(5)"
   ]
  },
  {
   "cell_type": "code",
   "execution_count": 17,
   "metadata": {},
   "outputs": [],
   "source": [
    "#! ipython id=84c35fbe613341129d0e94d6fc798e76\n",
    "5 - 7\n",
    "12 + 21.5\n",
    "5 <= 2"
   ]
  },
  {
   "cell_type": "code",
   "execution_count": 18,
   "metadata": {},
   "outputs": [],
   "source": [
    "#! ipython id=a91f01a0ee1e43e2a000db5609d04789\n",
    "a = [1, 2, 3]\n",
    "b = a\n",
    "c = list(a)\n",
    "a is b\n",
    "a is not c"
   ]
  },
  {
   "cell_type": "code",
   "execution_count": 19,
   "metadata": {},
   "outputs": [],
   "source": [
    "#! ipython id=1fca12df22264d9881690fcaa804149d\n",
    "a == c"
   ]
  },
  {
   "cell_type": "code",
   "execution_count": 20,
   "metadata": {},
   "outputs": [],
   "source": [
    "#! ipython id=e6fe568326a94c0d899c9c8b31f0c355\n",
    "a = None\n",
    "a is None"
   ]
  },
  {
   "cell_type": "code",
   "execution_count": 21,
   "metadata": {},
   "outputs": [],
   "source": [
    "#! ipython id=7db7331aee334850b9b17cb4f86e6d18\n",
    "a_list = [\"foo\", 2, [4, 5]]\n",
    "a_list[2] = (3, 4)\n",
    "a_list"
   ]
  },
  {
   "cell_type": "code",
   "execution_count": 22,
   "metadata": {},
   "outputs": [],
   "source": [
    "#! ipython allow_exceptions id=2536d7cdf32b4faaa753207cbfcc17fe\n",
    "a_tuple = (3, 5, (4, 5))\n",
    "a_tuple[1] = \"four\""
   ]
  },
  {
   "cell_type": "code",
   "execution_count": 23,
   "metadata": {},
   "outputs": [],
   "source": [
    "#! ipython id=51ad7d167b834b85a8eda9bc416c955b\n",
    "ival = 17239871\n",
    "ival ** 6"
   ]
  },
  {
   "cell_type": "code",
   "execution_count": 24,
   "metadata": {},
   "outputs": [],
   "source": [
    "#! ipython id=3350052c32fc49b599322353c27a4586\n",
    "fval = 7.243\n",
    "fval2 = 6.78e-5"
   ]
  },
  {
   "cell_type": "code",
   "execution_count": 25,
   "metadata": {},
   "outputs": [],
   "source": [
    "#! ipython id=38bc4370bb6840c5beb557dead1d6998\n",
    "3 / 2"
   ]
  },
  {
   "cell_type": "code",
   "execution_count": 26,
   "metadata": {},
   "outputs": [],
   "source": [
    "#! ipython id=2ccf1adf240348008ed8ce811792dbf8\n",
    "3 // 2"
   ]
  },
  {
   "cell_type": "code",
   "execution_count": 27,
   "metadata": {},
   "outputs": [],
   "source": [
    "#! ipython verbatim id=f1454b6b49ff4e2bba6124576e18cd53\n",
    "c = \"\"\"\n",
    "This is a longer string that\n",
    "spans multiple lines\n",
    "\"\"\""
   ]
  },
  {
   "cell_type": "code",
   "execution_count": 28,
   "metadata": {},
   "outputs": [],
   "source": [
    "#! ipython id=03cb238d855d42dda40a45ab91254038\n",
    "c.count(\"\\n\")"
   ]
  },
  {
   "cell_type": "code",
   "execution_count": 29,
   "metadata": {},
   "outputs": [],
   "source": [
    "#! ipython allow_exceptions id=59788f621484492ba307f10961edbb6c\n",
    "a = \"this is a string\"\n",
    "a[10] = \"f\""
   ]
  },
  {
   "cell_type": "code",
   "execution_count": 30,
   "metadata": {},
   "outputs": [],
   "source": [
    "#! ipython id=f5c3a08f5aaf4706a5122f3ef51f5e89\n",
    "b = a.replace(\"string\", \"longer string\")\n",
    "b"
   ]
  },
  {
   "cell_type": "code",
   "execution_count": 31,
   "metadata": {},
   "outputs": [],
   "source": [
    "#! ipython id=90017a4e11754eac828714ee61b43ac1\n",
    "a"
   ]
  },
  {
   "cell_type": "code",
   "execution_count": 32,
   "metadata": {},
   "outputs": [],
   "source": [
    "#! ipython id=99b192a5b56946cda8707464fb8e2bea\n",
    "a = 5.6\n",
    "s = str(a)\n",
    "print(s)"
   ]
  },
  {
   "cell_type": "code",
   "execution_count": 33,
   "metadata": {},
   "outputs": [],
   "source": [
    "#! ipython id=5bce41fece2f47bc90fb813f26cfa081\n",
    "s = \"python\"\n",
    "list(s)\n",
    "s[:3]"
   ]
  },
  {
   "cell_type": "code",
   "execution_count": 34,
   "metadata": {},
   "outputs": [],
   "source": [
    "#! ipython id=c826919c945643b8adb2dc48b3fa204b\n",
    "s = \"12\\\\34\"\n",
    "print(s)"
   ]
  },
  {
   "cell_type": "code",
   "execution_count": 35,
   "metadata": {},
   "outputs": [],
   "source": [
    "#! ipython id=f705192174ec4c849203a659260960e0\n",
    "s = r\"this\\has\\no\\special\\characters\"\n",
    "s"
   ]
  },
  {
   "cell_type": "code",
   "execution_count": 36,
   "metadata": {},
   "outputs": [],
   "source": [
    "#! ipython id=9e52b9bfcf734a899ad5b9deecc6b5f1\n",
    "a = \"this is the first half \"\n",
    "b = \"and this is the second half\"\n",
    "a + b"
   ]
  },
  {
   "cell_type": "code",
   "execution_count": 37,
   "metadata": {},
   "outputs": [],
   "source": [
    "#! ipython id=8ba0128b1e144dfd87b0a96bbb95e090\n",
    "template = \"{0:.2f} {1:s} are worth US${2:d}\""
   ]
  },
  {
   "cell_type": "code",
   "execution_count": 38,
   "metadata": {},
   "outputs": [],
   "source": [
    "#! ipython id=830e8c337251466d8704122c38e4a31d\n",
    "template.format(88.46, \"Argentine Pesos\", 1)"
   ]
  },
  {
   "cell_type": "code",
   "execution_count": 39,
   "metadata": {},
   "outputs": [],
   "source": [
    "#! ipython id=c5eab29881e7453bbdc2b8d3f1e81924\n",
    "amount = 10\n",
    "rate = 88.46\n",
    "currency = \"Pesos\"\n",
    "result = f\"{amount} {currency} is worth US${amount / rate}\""
   ]
  },
  {
   "cell_type": "code",
   "execution_count": 40,
   "metadata": {},
   "outputs": [],
   "source": [
    "#! ipython id=d4d50688c6c145d5a2d11d846f03dba2\n",
    "f\"{amount} {currency} is worth US${amount / rate:.2f}\""
   ]
  },
  {
   "cell_type": "code",
   "execution_count": 41,
   "metadata": {},
   "outputs": [],
   "source": [
    "#! ipython id=fe3d6a3ffd5c4906858baeb46363aee5\n",
    "val = \"español\"\n",
    "val"
   ]
  },
  {
   "cell_type": "code",
   "execution_count": 42,
   "metadata": {},
   "outputs": [],
   "source": [
    "#! ipython id=f1369533406f414ea648c7b80c22cba3\n",
    "val_utf8 = val.encode(\"utf-8\")\n",
    "val_utf8\n",
    "type(val_utf8)"
   ]
  },
  {
   "cell_type": "code",
   "execution_count": 43,
   "metadata": {},
   "outputs": [],
   "source": [
    "#! ipython id=6cfcab789284478f9fe920568aad6276\n",
    "val_utf8.decode(\"utf-8\")"
   ]
  },
  {
   "cell_type": "code",
   "execution_count": 44,
   "metadata": {},
   "outputs": [],
   "source": [
    "#! ipython id=9e55ca7c4e2642e5a26f603523e87564\n",
    "val.encode(\"latin1\")\n",
    "val.encode(\"utf-16\")\n",
    "val.encode(\"utf-16le\")"
   ]
  },
  {
   "cell_type": "code",
   "execution_count": 45,
   "metadata": {},
   "outputs": [],
   "source": [
    "#! ipython id=422e235bb54842adb436742e6caba89c\n",
    "True and True\n",
    "False or True"
   ]
  },
  {
   "cell_type": "code",
   "execution_count": 46,
   "metadata": {},
   "outputs": [],
   "source": [
    "#! ipython id=1051ac23010f466c8f2160c865da145f\n",
    "int(False)\n",
    "int(True)"
   ]
  },
  {
   "cell_type": "code",
   "execution_count": 47,
   "metadata": {},
   "outputs": [],
   "source": [
    "#! ipython id=14dc7378115c43349c92e34020bb3b71\n",
    "a = True\n",
    "b = False\n",
    "not a\n",
    "not b"
   ]
  },
  {
   "cell_type": "code",
   "execution_count": 48,
   "metadata": {},
   "outputs": [],
   "source": [
    "#! ipython id=345c0ce8702b41539a102f07716ff00d\n",
    "s = \"3.14159\"\n",
    "fval = float(s)\n",
    "type(fval)\n",
    "int(fval)\n",
    "bool(fval)\n",
    "bool(0)"
   ]
  },
  {
   "cell_type": "code",
   "execution_count": 49,
   "metadata": {},
   "outputs": [],
   "source": [
    "#! ipython id=163e5f37123741a88e61ef81c85fedc1\n",
    "a = None\n",
    "a is None\n",
    "b = 5\n",
    "b is not None"
   ]
  },
  {
   "cell_type": "code",
   "execution_count": 50,
   "metadata": {},
   "outputs": [],
   "source": [
    "#! ipython id=552d7fff9f2a45a38b54fa44add624c7\n",
    "from datetime import datetime, date, time\n",
    "dt = datetime(2011, 10, 29, 20, 30, 21)\n",
    "dt.day\n",
    "dt.minute"
   ]
  },
  {
   "cell_type": "code",
   "execution_count": 51,
   "metadata": {},
   "outputs": [],
   "source": [
    "#! ipython id=a527d76de7e141568e7dd9e5c9f8d8ce\n",
    "dt.date()\n",
    "dt.time()"
   ]
  },
  {
   "cell_type": "code",
   "execution_count": 52,
   "metadata": {},
   "outputs": [],
   "source": [
    "#! ipython id=9bd051a88f7b458fae19e8e156fda078\n",
    "dt.strftime(\"%Y-%m-%d %H:%M\")"
   ]
  },
  {
   "cell_type": "code",
   "execution_count": 53,
   "metadata": {},
   "outputs": [],
   "source": [
    "#! ipython id=3fe2b447220b4b8ca70b526d76e31cb5\n",
    "datetime.strptime(\"20091031\", \"%Y%m%d\")"
   ]
  },
  {
   "cell_type": "code",
   "execution_count": 54,
   "metadata": {},
   "outputs": [],
   "source": [
    "#! ipython id=178fb4d50aff4d68a0a7e0ab28ee71f3\n",
    "dt_hour = dt.replace(minute=0, second=0)\n",
    "dt_hour"
   ]
  },
  {
   "cell_type": "code",
   "execution_count": 55,
   "metadata": {},
   "outputs": [],
   "source": [
    "#! ipython id=9ad24ebe03e049b2af9a81ec22a90675\n",
    "dt"
   ]
  },
  {
   "cell_type": "code",
   "execution_count": 56,
   "metadata": {},
   "outputs": [],
   "source": [
    "#! ipython id=1a41f2e49eee432cbc4a32f4298e1f3c\n",
    "dt2 = datetime(2011, 11, 15, 22, 30)\n",
    "delta = dt2 - dt\n",
    "delta\n",
    "type(delta)"
   ]
  },
  {
   "cell_type": "code",
   "execution_count": 57,
   "metadata": {},
   "outputs": [],
   "source": [
    "#! ipython id=04baa0c20d534202ad4714e5c68d04a4\n",
    "dt\n",
    "dt + delta"
   ]
  },
  {
   "cell_type": "code",
   "execution_count": 58,
   "metadata": {},
   "outputs": [],
   "source": [
    "#! ipython id=6551625a4f864b5fb5ce6b81e5ffd81b\n",
    "a = 5; b = 7\n",
    "c = 8; d = 4\n",
    "if a < b or c > d:\n",
    "    print(\"Made it\")"
   ]
  },
  {
   "cell_type": "code",
   "execution_count": 59,
   "metadata": {},
   "outputs": [],
   "source": [
    "#! ipython id=ace8e0c5cbb349cb852d8248394b0f7c\n",
    "4 > 3 > 2 > 1"
   ]
  },
  {
   "cell_type": "code",
   "execution_count": 60,
   "metadata": {},
   "outputs": [],
   "source": [
    "#! ipython id=6e3b4a652a894d25906ad84f8b4248ea\n",
    "#! blockstart\n",
    "for i in range(4):\n",
    "    for j in range(4):\n",
    "        if j > i:\n",
    "            break\n",
    "        print((i, j))\n",
    "#! blockend"
   ]
  },
  {
   "cell_type": "code",
   "execution_count": 61,
   "metadata": {},
   "outputs": [],
   "source": [
    "#! ipython id=60383320960a45bcb83e21d713d5619c\n",
    "range(10)\n",
    "list(range(10))"
   ]
  },
  {
   "cell_type": "code",
   "execution_count": 62,
   "metadata": {},
   "outputs": [],
   "source": [
    "#! ipython id=71696aba433c43f6b2e05d488837f0f3\n",
    "list(range(0, 20, 2))\n",
    "list(range(5, 0, -1))"
   ]
  },
  {
   "cell_type": "code",
   "execution_count": 63,
   "metadata": {},
   "outputs": [],
   "source": [
    "#! ipython id=c9e25935441242149e5f4b406032113f\n",
    "seq = [1, 2, 3, 4]\n",
    "for i in range(len(seq)):\n",
    "    print(f\"element {i}: {seq[i]}\")"
   ]
  },
  {
   "cell_type": "code",
   "execution_count": 64,
   "metadata": {},
   "outputs": [],
   "source": [
    "#! ipython id=430c1852ec4847bcad3afc4a3a68c2f3\n",
    "total = 0\n",
    "for i in range(100_000):\n",
    "    # % is the modulo operator\n",
    "    if i % 3 == 0 or i % 5 == 0:\n",
    "        total += i\n",
    "print(total)"
   ]
  },
  {
   "cell_type": "code",
   "execution_count": 65,
   "metadata": {},
   "outputs": [],
   "source": [
    "#! ipython suppress id=25d6eae18f4846ed89c817cb487df3b5\n",
    "%popd"
   ]
  }
 ],
 "metadata": {
  "celltoolbar": "Slideshow",
  "hide_input": false,
  "kernelspec": {
   "display_name": "Python 3",
   "language": "python",
   "name": "python3"
  },
  "language_info": {
   "codemirror_mode": {
    "name": "ipython",
    "version": 3
   },
   "file_extension": ".py",
   "mimetype": "text/x-python",
   "name": "python",
   "nbconvert_exporter": "python",
   "pygments_lexer": "ipython3",
   "version": "3.7.12"
  },
  "nbTranslate": {
   "displayLangs": [
    "en",
    "it"
   ],
   "hotkey": "alt-t",
   "langInMainMenu": true,
   "sourceLang": "en",
   "targetLang": "it",
   "useGoogleTranslate": true
  },
  "toc": {
   "base_numbering": 1,
   "nav_menu": {},
   "number_sections": true,
   "sideBar": true,
   "skip_h1_title": false,
   "title_cell": "Table of Contents",
   "title_sidebar": "Contents",
   "toc_cell": false,
   "toc_position": {},
   "toc_section_display": true,
   "toc_window_display": true
  },
  "varInspector": {
   "cols": {
    "lenName": 16,
    "lenType": 16,
    "lenVar": 40
   },
   "kernels_config": {
    "python": {
     "delete_cmd_postfix": "",
     "delete_cmd_prefix": "del ",
     "library": "var_list.py",
     "varRefreshCmd": "print(var_dic_list())"
    },
    "r": {
     "delete_cmd_postfix": ") ",
     "delete_cmd_prefix": "rm(",
     "library": "var_list.r",
     "varRefreshCmd": "cat(var_dic_list()) "
    }
   },
   "types_to_exclude": [
    "module",
    "function",
    "builtin_function_or_method",
    "instance",
    "_Feature"
   ],
   "window_display": false
  }
 },
 "nbformat": 4,
 "nbformat_minor": 4
}
